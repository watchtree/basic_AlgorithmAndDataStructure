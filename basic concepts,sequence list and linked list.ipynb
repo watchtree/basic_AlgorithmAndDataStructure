{
 "cells": [
  {
   "cell_type": "markdown",
   "metadata": {},
   "source": [
    "# 时间复杂度"
   ]
  },
  {
   "cell_type": "markdown",
   "metadata": {},
   "source": [
    "**时间复杂度与“大O记法”**\n",
    "\n",
    "我们假定计算机执行算法每一个基本操作的时间是固定的一个时间单位，那么有多少个基本操作就代表会花费多少时间单位。算然对于不同的机器环境而言，确切的单位时间是不同的，但是对于算法进行多少个基本操作（即花费多少时间单位）在规模数量级上却是相同的，由此可以忽略机器环境的影响而客观的反应算法的时间效率。\n",
    "\n",
    "对于算法的时间效率，我们可以用“大O记法”来表示。\n",
    "\n",
    "“大O记法”：对于单调的整数函数f，如果存在一个整数函数g和实常数c>0，使得对于充分大的n总有f(n)<=c*g(n)，就说函数g是f的一个渐近函数（忽略常数），记为f(n)=O(g(n))。也就是说，在趋向无穷的极限意义下，函数f的增长速度受到函数g的约束，亦即函数f与函数g的特征相似。\n",
    "\n",
    "**时间复杂度：假设存在函数g，使得算法A处理规模为n的问题示例所用时间为T(n)=O(g(n))，则称O(g(n))为算法A的渐近时间复杂度，简称时间复杂度，记为T(n)**"
   ]
  },
  {
   "cell_type": "markdown",
   "metadata": {},
   "source": [
    "**最坏时间复杂度**\n",
    "\n",
    "分析算法时，存在几种可能的考虑：\n",
    "\n",
    "    算法完成工作最少需要多少基本操作，即最优时间复杂度\n",
    "    算法完成工作最多需要多少基本操作，即最坏时间复杂度\n",
    "    算法完成工作平均需要多少基本操作，即平均时间复杂度\n",
    "\n",
    "对于最优时间复杂度，其价值不大，因为它没有提供什么有用信息，其反映的只是最乐观最理想的情况，没有参考价值。\n",
    "\n",
    "对于最坏时间复杂度，提供了一种保证，表明算法在此种程度的基本操作中一定能完成工作。\n",
    "\n",
    "对于平均时间复杂度，是对算法的一个全面评价，因此它完整全面的反映了这个算法的性质。但另一方面，这种衡量并没有保证，不是每个计算都能在这个基本操作内完成。而且，对于平均情况的计算，也会因为应用算法的实例分布可能并不均匀而难以计算。\n",
    "\n",
    "**因此，我们主要关注算法的最坏情况，亦即最坏时间复杂度。**"
   ]
  },
  {
   "cell_type": "markdown",
   "metadata": {},
   "source": [
    "**时间复杂度的几条基本计算规则**\n",
    "\n",
    "    1. 基本操作，即只有常数项，认为其时间复杂度为O(1)\n",
    "    2. 顺序结构，时间复杂度按加法进行计算\n",
    "    3. 循环结构，时间复杂度按乘法进行计算\n",
    "    4. 分支结构，时间复杂度取最大值\n",
    "    5. 判断一个算法的效率时，往往只需要关注操作数量的最高次项，其它次要项和常数项可以忽略\n",
    "    6. 在没有特殊说明时，我们所分析的算法的时间复杂度都是指最坏时间复杂度\n"
   ]
  },
  {
   "cell_type": "markdown",
   "metadata": {},
   "source": [
    "**O(1) < O(logn) < O(n) < O(nlogn) < O(n2) < O(n3) < O(2n) < O(n!) < O(nn)**"
   ]
  },
  {
   "cell_type": "markdown",
   "metadata": {},
   "source": [
    "# 顺序表"
   ]
  },
  {
   "cell_type": "markdown",
   "metadata": {},
   "source": [
    "图a表示的是顺序表的基本形式，数据元素本身连续存储，每个元素所占的存储单元大小固定相同，元素的下标是其逻辑地址，而元素存储的物理地址（实际内存地址）可以通过存储区的起始地址Loc (e0)加上逻辑地址（第i个元素）与存储单元大小（c）的乘积计算而得，即：\n",
    "\n",
    "Loc(ei) = Loc(e0) + c*i\n",
    "\n",
    "故，访问指定元素时无需从头遍历，通过计算便可获得对应地址，其时间复杂度为O(1)。\n",
    "\n",
    "如果元素的大小不统一，则须采用图b的元素外置的形式，将实际数据元素另行存储，而顺序表中各单元位置保存对应元素的地址信息（即链接）。由于每个链接所需的存储量相同，通过上述公式，可以计算出元素链接的存储位置，而后顺着链接找到实际存储的数据元素。注意，图b中的c不再是数据元素的大小，而是存储一个链接地址所需的存储量，这个量通常很小。\n",
    "\n",
    "图b这样的顺序表也被称为对实际数据的索引，这是最简单的索引结构"
   ]
  },
  {
   "cell_type": "markdown",
   "metadata": {},
   "source": [
    "**增加元素**\n",
    "\n",
    "\n",
    "a. 尾端加入元素，时间复杂度为O(1)\n",
    "\n",
    "b. 非保序的加入元素（不常见），时间复杂度为O(1)\n",
    "\n",
    "c. 保序的元素加入，时间复杂度为O(n)"
   ]
  },
  {
   "cell_type": "markdown",
   "metadata": {},
   "source": [
    "**删除元素**\n",
    "\n",
    "a. 删除表尾元素，时间复杂度为O(1)\n",
    "\n",
    "b. 非保序的元素删除（不常见），时间复杂度为O(1)\n",
    "\n",
    "c. 保序的元素删除，时间复杂度为O(n)"
   ]
  },
  {
   "cell_type": "markdown",
   "metadata": {},
   "source": [
    "**Python中的顺序表**\n",
    "\n",
    "Python中的list和tuple两种类型采用了顺序表的实现技术，具有前面讨论的顺序表的所有性质。\n",
    "\n",
    "tuple是不可变类型，即不变的顺序表，因此不支持改变其内部状态的任何操作，而其他方面，则与list的性质类似。\n",
    "list的基本实现技术\n",
    "\n",
    "Python标准类型list就是一种元素个数可变的线性表，可以加入和删除元素，并在各种操作中维持已有元素的顺序（即保序），而且还具有以下行为特征：\n",
    "\n",
    "   * 基于下标（位置）的高效元素访问和更新，时间复杂度应该是O(1)；\n",
    "\n",
    "   * 为满足该特征，应该采用顺序表技术，表中元素保存在一块连续的存储区中。\n",
    "\n",
    "   * 允许任意加入元素，而且在不断加入元素的过程中，表对象的标识（函数id得到的值）不变。\n",
    "\n",
    "   * 为满足该特征，就必须能更换元素存储区，并且为保证更换存储区时list对象的标识id不变，只能采用分离式实现技术。\n",
    "\n",
    "在Python的官方实现中，list就是一种采用分离式技术实现的动态顺序表。这就是为什么用list.append(x) （或 list.insert(len(list), x)，即尾部插入）比在指定位置插入元素效率高的原因。\n",
    "\n",
    "在Python的官方实现中，list实现采用了如下的策略：在建立空表（或者很小的表）时，系统分配一块能容纳8个元素的存储区；在执行插入操作（insert或append）时，如果元素存储区满就换一块4倍大的存储区。但如果此时的表已经很大（目前的阀值为50000），则改变策略，采用加一倍的方法。引入这种改变策略的方式，是为了避免出现过多空闲的存储位置。\n"
   ]
  },
  {
   "cell_type": "markdown",
   "metadata": {},
   "source": [
    "# 链表"
   ]
  },
  {
   "cell_type": "markdown",
   "metadata": {},
   "source": [
    "**为什么需要链表** \n",
    "\n",
    "顺序表的构建需要预先知道数据大小来申请连续的存储空间，而在进行扩充时又需要进行数据的搬迁，所以使用起来并不是很灵活。\n",
    "\n",
    "链表结构可以充分利用计算机内存空间，实现灵活的内存动态管理。 \n",
    "\n",
    "**链表的定义**\n",
    "\n",
    "链表（Linked list）是一种常见的基础数据结构，是一种线性表，但是不像顺序表一样连续存储数据，而是在每一个节点（数据存储单元）里存放下一个节点的位置信息（即地址）"
   ]
  },
  {
   "cell_type": "markdown",
   "metadata": {},
   "source": [
    "## 单向链表"
   ]
  },
  {
   "cell_type": "markdown",
   "metadata": {},
   "source": [
    "单向链表也叫单链表，是链表中最简单的一种形式，它的每个节点包含两个域，一个信息域（元素域）和一个链接域。这个链接指向链表中的下一个节点，而最后一个节点的链接域则指向一个空值。\n",
    "\n",
    "    表元素域elem用来存放具体的数据。\n",
    "    链接域next用来存放下一个节点的位置（python中的标识）\n",
    "    变量p指向链表的头节点（首节点）的位置，从p出发能找到表中的任意节点。\n"
   ]
  },
  {
   "cell_type": "code",
   "execution_count": 28,
   "metadata": {},
   "outputs": [],
   "source": [
    "class SingleNode(object):\n",
    "    def __init__(self, item):\n",
    "        self.item = item\n",
    "         # _item存放数据元素\n",
    "        self.next = None\n",
    "         # _next是下一个节点的标识"
   ]
  },
  {
   "cell_type": "code",
   "execution_count": 31,
   "metadata": {},
   "outputs": [],
   "source": [
    "class SingleLinkList(object):\n",
    "    def __init__(self):\n",
    "        self._head = None\n",
    "    \n",
    "    def is_empty(self):\n",
    "        #判断链表是否为空\n",
    "        return self._head == None\n",
    "    \n",
    "    def length(self):\n",
    "        cur = self._head\n",
    "        #cur初始时指向头节点\n",
    "        count = 0\n",
    "        #尾节点指向None， 当未达到尾部时\n",
    "        while cur != None:\n",
    "            count += 1\n",
    "            cur = cur.next\n",
    "            # 将cur后移一个节点\n",
    "        return count\n",
    "    \n",
    "    def travel(self):\n",
    "        #遍历链表\n",
    "        cur = self._head\n",
    "        while cur != None:\n",
    "            print(cur.item)\n",
    "            cur = cur.next\n",
    "        print(\"\")\n",
    "        \n",
    "    def add(self, item):\n",
    "        #头部添加元素\n",
    "        node = SingleNode(item)\n",
    "        #先创建一个保存item值的节点\n",
    "        node.next = self._head\n",
    "        #将新节点的链接域next指向头节点， 即_head指向的位置\n",
    "        self._head = node\n",
    "\n",
    "    def append(self, item):\n",
    "        #尾部添加元素\n",
    "        node = SingleNode(item)\n",
    "        if self.is_empty():\n",
    "            self_head = node\n",
    "        #先判断链表是否为空，若是空链表，则将_head指向新节点\n",
    "        else:\n",
    "            cur = self._head\n",
    "            while cur.next != None:\n",
    "                cur = cur.next\n",
    "            cur.next = node\n",
    "        # 若不为空，则找到尾部，将尾节点的next指向新节点\n",
    "        \n",
    "    def insert(self, pos, item):\n",
    "        #指定位置添加元素\n",
    "        if pos <= 0:\n",
    "            self.add(item)\n",
    "        #若指定位置pos为第一个元素前，则执行头部插入\n",
    "        elif pos > (self.length()-1):\n",
    "            self.append(item)\n",
    "        #若指定位置超过链表尾部，则执行尾部插入\n",
    "        else:\n",
    "            node = SingleNode(item)\n",
    "            count = 0\n",
    "\n",
    "            pre = self._head\n",
    "            #pre用来指向指定位置pos的前一个位置pos-1， 初始从头节点开始到指定位置\n",
    "            while count < (pos - 1):\n",
    "                count += 1\n",
    "                pre = pre.next\n",
    "\n",
    "            node.next = pre.next\n",
    "            #先将新节点node的next指向插入位置的节点\n",
    "            pre.next = node\n",
    "            #将插入位置的前一个节点的next指向新节点\n",
    "            \n",
    "    def remove(self, item):\n",
    "        cur = self._head\n",
    "        pre = None\n",
    "        while cur != None:\n",
    "            #找到指定元素\n",
    "            if cur.item == item:\n",
    "                #如果第一个就是删除的节点\n",
    "                if not pre:\n",
    "                    self._head = cur.next\n",
    "                    #将头指针指向头节点的后一个节点\n",
    "                else:\n",
    "                    pre.next = cur.next\n",
    "                    #将删除位置的前一个节点的next指向删除位置的后一个节点\n",
    "                break\n",
    "            else:\n",
    "                pre = cur\n",
    "                cur = cur.next\n",
    "            \n",
    "    def search(self, item):\n",
    "        cur = self._head\n",
    "        while cur != None:\n",
    "            if cur.item == item:\n",
    "                return True\n",
    "            cur = cur.next\n",
    "        return False"
   ]
  },
  {
   "cell_type": "code",
   "execution_count": 32,
   "metadata": {},
   "outputs": [
    {
     "name": "stdout",
     "output_type": "stream",
     "text": [
      "length: 4\n",
      "2\n",
      "1\n",
      "4\n",
      "3\n",
      "\n",
      "True\n",
      "False\n",
      "length: 3\n",
      "2\n",
      "4\n",
      "3\n",
      "\n"
     ]
    }
   ],
   "source": [
    "if __name__ == \"__main__\":\n",
    "    ll = SingleLinkList()\n",
    "    ll.add(1)\n",
    "    ll.add(2)\n",
    "    ll.append(3)\n",
    "    ll.insert(2, 4)\n",
    "    print(\"length:\",ll.length())\n",
    "    ll.travel()\n",
    "    print(ll.search(3))\n",
    "    print(ll.search(5))\n",
    "    ll.remove(1)\n",
    "    print(\"length:\",ll.length())\n",
    "    ll.travel()\n",
    "    "
   ]
  },
  {
   "cell_type": "markdown",
   "metadata": {},
   "source": [
    "# 单向循环链表"
   ]
  },
  {
   "cell_type": "markdown",
   "metadata": {},
   "source": [
    "单链表的一个变形是单向循环链表，链表中最后一个节点的next域不再为None，而是指向链表的头节点。\n",
    "\n",
    "单向循环链表"
   ]
  },
  {
   "cell_type": "code",
   "execution_count": 10,
   "metadata": {},
   "outputs": [],
   "source": [
    "class Node(object):\n",
    "    #节点\n",
    "    def __init__(self, item):\n",
    "        self.item = item\n",
    "        self.next = None\n",
    "        "
   ]
  },
  {
   "cell_type": "code",
   "execution_count": 11,
   "metadata": {},
   "outputs": [],
   "source": [
    "class SinCycLinkedlist(object):\n",
    "    #单向循环链表\n",
    "    def __init__(self):\n",
    "        #链表初始化\n",
    "        self._head = None\n",
    "    \n",
    "    def is_empty(self):\n",
    "        #判断是否为空\n",
    "        return self._head == None\n",
    "    \n",
    "    def length(self):\n",
    "        #计算链表的长度\n",
    "        if self.is_empty():\n",
    "            return 0\n",
    "        count = 1\n",
    "        cur = self._head\n",
    "        while cur.next != self._head:\n",
    "            count += 1\n",
    "            cur = cur.next\n",
    "        return count\n",
    "    \n",
    "    \n",
    "    def travel(self):\n",
    "        #遍历链表\n",
    "        if self.is_empty():\n",
    "            return \n",
    "        cur = self._head\n",
    "        print(cur.item)\n",
    "        while cur.next != self._head:\n",
    "            cur = cur.next\n",
    "            print(cur.item,)\n",
    "        print(\"\")\n",
    "    \n",
    "    def add(self, item):\n",
    "        #头部添加节点\n",
    "        node = Node(item)\n",
    "        if self.is_empty():\n",
    "            self._head = node\n",
    "            node.next =self._head\n",
    "        else:\n",
    "            #添加节点指向_head\n",
    "            node.next = self._head\n",
    "            #移动到链表尾部，将尾部节点的next指向node\n",
    "            cur = self._head\n",
    "            while cur.next != self._head:\n",
    "                cur = cur.next\n",
    "            cur.next = node\n",
    "            self._head = node\n",
    "    \n",
    "    def append(self, item):\n",
    "        #尾部添加节点\n",
    "        node = Node(item)\n",
    "        if self.is_empty():\n",
    "            self._head = node\n",
    "            node.next = self._head\n",
    "        else:\n",
    "            #移动到链表尾部\n",
    "            cur = self._head\n",
    "            while cur.next != self._head:\n",
    "                cur = cur.next\n",
    "            #将尾节点指向node\n",
    "            cur.next = node\n",
    "            #将node指向头节点_head\n",
    "            node.next = self._head\n",
    "            \n",
    "    \n",
    "    def insert(self, pos, item):\n",
    "        #在指定位置添加节点\n",
    "        if pos <= 0 :\n",
    "            self.add(item)\n",
    "        elif pos > (self.length()-1):\n",
    "            self.append(item)\n",
    "        else:\n",
    "            node = Node(item)\n",
    "            cur = self._head\n",
    "            count = 0\n",
    "            while count < (pos -1 ):\n",
    "                count += 1\n",
    "                cur = cur.next\n",
    "            node.next = cur.next\n",
    "            cur.next = node\n",
    "        \n",
    "    def remove(self, item):\n",
    "        if self.is_empty():\n",
    "            return \n",
    "        cur = self._head\n",
    "        pre = None\n",
    "        # 若头节点的元素就是要查找的元素item\n",
    "        if cur.item ==item:\n",
    "            if cur.next != self._head:\n",
    "                while cur.next != self._head:\n",
    "                    cur = cur.next\n",
    "                cur.next = self._head.next\n",
    "                self._head = self._head.next\n",
    "            else:\n",
    "                self._head = None\n",
    "        else:\n",
    "            pre = self._head\n",
    "            while cur.next != self._head:\n",
    "                if cur.item ==item:\n",
    "                    pre.next =cur.next\n",
    "                    return \n",
    "                else:\n",
    "                    pre = cur\n",
    "                    cur = cur.next\n",
    "            if cur.item ==item:\n",
    "                pre.next =cur.next\n",
    "    \n",
    "    def search(self, item):\n",
    "        if self.is_empty():\n",
    "            return False\n",
    "        cur = self._head\n",
    "        if cur.item ==item:\n",
    "            return True\n",
    "        while cur.next != self._head:\n",
    "            cur = cur.next\n",
    "            if cur.item ==item:\n",
    "                return True\n",
    "        return False"
   ]
  },
  {
   "cell_type": "code",
   "execution_count": 12,
   "metadata": {},
   "outputs": [
    {
     "name": "stdout",
     "output_type": "stream",
     "text": [
      "length: 6\n",
      "6\n",
      "2\n",
      "1\n",
      "4\n",
      "3\n",
      "5\n",
      "\n",
      "True\n",
      "False\n",
      "length: 5\n",
      "6\n",
      "2\n",
      "4\n",
      "3\n",
      "5\n",
      "\n"
     ]
    }
   ],
   "source": [
    "if __name__ == \"__main__\":\n",
    "    ll = SinCycLinkedlist()\n",
    "    ll.add(1)\n",
    "    ll.add(2)\n",
    "    ll.append(3)\n",
    "    ll.insert(2, 4)\n",
    "    ll.insert(4, 5)\n",
    "    ll.insert(0, 6)\n",
    "    print( \"length:\",ll.length())\n",
    "    ll.travel()\n",
    "    print(ll.search(3))\n",
    "    print( ll.search(7))\n",
    "    ll.remove(1)\n",
    "    print(\"length:\",ll.length())\n",
    "    ll.travel()"
   ]
  },
  {
   "cell_type": "markdown",
   "metadata": {},
   "source": [
    "# 双向链表\n",
    "\n",
    "一种更复杂的链表是“双向链表”或“双面链表”。每个节点有两个链接：一个指向前一个节点，当此节点为第一个节点时，指向空值；而另一个指向下一个节点，当此节点为最后一个节点时，指向空值。"
   ]
  },
  {
   "cell_type": "code",
   "execution_count": 49,
   "metadata": {},
   "outputs": [],
   "source": [
    "class Node(object):\n",
    "    #双向链表节点\n",
    "    def __init__(self, item):\n",
    "        self.item = item\n",
    "        self.next = None\n",
    "        self.prev = None\n",
    "        \n",
    "        \n",
    "class DLinkList(object):\n",
    "    #双向链表\n",
    "    def __init__(self):\n",
    "        self._head = None\n",
    "\n",
    "    def is_empty(self):\n",
    "        #判断链表是否为空\n",
    "        return self._head ==None\n",
    "\n",
    "    def length(self):\n",
    "        #返回链表的长度\n",
    "        cur = self._head\n",
    "        count = 0\n",
    "        while cur != None:\n",
    "            count += 1\n",
    "            cur = cur.next\n",
    "        return count\n",
    "\n",
    "    def travel(self):\n",
    "        \"\"\"遍历链表\"\"\"\n",
    "        cur = self._head\n",
    "        while cur != None:\n",
    "            print(cur.item)\n",
    "            cur = cur.next\n",
    "        print(\"\")\n",
    "    \n",
    "    def add(self,item):\n",
    "        #头部插入元素\n",
    "        node = Node(item)\n",
    "        if self.is_empty():\n",
    "            #如果是空链表，将_head 指向node\n",
    "            self._head = node\n",
    "        else:\n",
    "            #将node的next指向_head的头节点\n",
    "            node.next = self._head\n",
    "            #将_head的头节点的prev指向node\n",
    "            self._head.prev = node\n",
    "            #将_head指向node\n",
    "            self._head = node\n",
    "\n",
    "    def append(self, item):\n",
    "        #尾部插入元素\n",
    "        node = Node(item)\n",
    "        if self.is_empty():\n",
    "            self._head = node\n",
    "        else:\n",
    "            #移动到链表尾部\n",
    "            cur = self._head \n",
    "            while cur.next != None:\n",
    "                cur = cur.next\n",
    "            #将尾节点cur的next指向node\n",
    "            cur.next = node \n",
    "            #将node的prev指向cur\n",
    "            node.prev = cur\n",
    "            \n",
    "            \n",
    "    def search(self, item):\n",
    "        #查找元素是否存在\n",
    "        cur = self._head\n",
    "        while cur != None:\n",
    "            if cur.item == item:\n",
    "                return True\n",
    "            cur = cur.next\n",
    "        return False\n",
    "\n",
    "    def insert(self, pos, item):\n",
    "        #在指定位置添加节点\n",
    "        if pos <= 0:\n",
    "            self.add(item)\n",
    "        elif pos > (self.length()-1):\n",
    "            self.append(item)\n",
    "        else:\n",
    "            node = Node(item)\n",
    "            cur = self._head\n",
    "            count = 0\n",
    "            # 移动到指定位置的前一个位置\n",
    "            while count < (pos-1):\n",
    "                count += 1\n",
    "                cur = cur.next\n",
    "            # 将node的prev指向cur\n",
    "            node.prev = cur\n",
    "            # 将node的next指向cur的下一个节点\n",
    "            node.next = cur.next\n",
    "            # 将cur的下一个节点的prev指向node\n",
    "            cur.next.prev = node\n",
    "            # 将cur的next指向node\n",
    "            cur.next = node   \n",
    "\n",
    "    def remove(self, item):\n",
    "        #删除元素\n",
    "        if self.is_empty():\n",
    "            return\n",
    "        else:\n",
    "            cur = self._head\n",
    "            if cur.item == item:\n",
    "                # 如果首节点的元素即是要删除的元素\n",
    "                if cur.next == None:\n",
    "                    # 如果链表只有这一个节点\n",
    "                    self._head = None\n",
    "                else:\n",
    "                    # 将第二个节点的prev设置为None\n",
    "                    cur.next.prev = None\n",
    "                    # 将_head指向第二个节点\n",
    "                    self._head = cur.next\n",
    "                return\n",
    "            while cur != None:\n",
    "                if cur.item == item:\n",
    "                    # 将cur的前一个节点的next指向cur的后一个节点\n",
    "                    cur.prev.next = cur.next\n",
    "                    # 将cur的后一个节点的prev指向cur的前一个节点\n",
    "                    cur.next.prev = cur.prev\n",
    "                    break\n",
    "                cur = cur.next"
   ]
  },
  {
   "cell_type": "code",
   "execution_count": 50,
   "metadata": {},
   "outputs": [
    {
     "name": "stdout",
     "output_type": "stream",
     "text": [
      "length: 6\n",
      "6\n",
      "2\n",
      "1\n",
      "4\n",
      "3\n",
      "5\n",
      "\n",
      "True\n",
      "True\n",
      "length: 5\n",
      "6\n",
      "2\n",
      "4\n",
      "3\n",
      "5\n",
      "\n"
     ]
    }
   ],
   "source": [
    "if __name__ == \"__main__\":\n",
    "    ll = DLinkList()\n",
    "    ll.add(1)\n",
    "    ll.add(2)\n",
    "    ll.append(3)\n",
    "    ll.insert(2, 4)\n",
    "    ll.insert(4, 5)\n",
    "    ll.insert(0, 6)\n",
    "    print( \"length:\",ll.length())\n",
    "    ll.travel()\n",
    "    print( ll.search(3))\n",
    "    print( ll.search(4))\n",
    "    ll.remove(1)\n",
    "    print(\"length:\",ll.length())\n",
    "    ll.travel()"
   ]
  },
  {
   "cell_type": "markdown",
   "metadata": {},
   "source": [
    "# 栈结构实现"
   ]
  },
  {
   "cell_type": "code",
   "execution_count": 8,
   "metadata": {},
   "outputs": [],
   "source": [
    "class Stack(object):\n",
    "    #构造初始化\n",
    "    def __init__(self):\n",
    "        self.items = []\n",
    "    \n",
    "    #判断是否维空\n",
    "    def is_empty(self):\n",
    "        return self.items ==[]\n",
    "    \n",
    "    #加入元素\n",
    "    def push(self, item):\n",
    "        self.items.append(item)\n",
    "    \n",
    "    #弹出元素\n",
    "    def pop(self):\n",
    "        return self.items.pop()\n",
    "    #在尾部加入时间复杂度O（1）弹出O（1）\n",
    "    #如果在头部加入时间复杂度O（n）弹出O（n）\n",
    "    \n",
    "    #返回栈顶元素\n",
    "    def peek(self):\n",
    "        return self.items[len(self.items)-1]\n",
    "    \n",
    "    #返回栈的大小\n",
    "    def size(self):\n",
    "        return len(self.items)"
   ]
  },
  {
   "cell_type": "code",
   "execution_count": 13,
   "metadata": {},
   "outputs": [
    {
     "name": "stdout",
     "output_type": "stream",
     "text": [
      "['hello', 'world', 'itcast']\n",
      "3\n",
      "itcast\n",
      "itcast\n",
      "world\n",
      "hello\n",
      "True\n"
     ]
    }
   ],
   "source": [
    "stack = Stack()\n",
    "stack.push(\"hello\")\n",
    "stack.push(\"world\")\n",
    "stack.push(\"itcast\")\n",
    "print(stack.items)\n",
    "print(stack.size())\n",
    "print(stack.peek())\n",
    "print(stack.pop())\n",
    "print(stack.pop())\n",
    "print(stack.pop())\n",
    "print(stack.is_empty())"
   ]
  },
  {
   "cell_type": "markdown",
   "metadata": {},
   "source": [
    "# 队列的实现"
   ]
  },
  {
   "cell_type": "markdown",
   "metadata": {},
   "source": [
    "**此部分无概念**"
   ]
  },
  {
   "cell_type": "code",
   "execution_count": 27,
   "metadata": {},
   "outputs": [],
   "source": [
    "class Queue(object):\n",
    "    #初始化构造方法\n",
    "    def __init__(self):\n",
    "        self.items = []\n",
    "    \n",
    "    #在队列中添加一个元素\n",
    "    def enqueue(self, item):\n",
    "        self.items.append(item)\n",
    "#         self.items.insert(0, item)\n",
    "    \n",
    "    #从队列中弹出一个元素（与添加对应，头部添加尾部弹出，尾部添加头部弹出）\n",
    "    def dequeue(self):\n",
    "        return self.items.pop(0)\n",
    "#      return self.pop()\n",
    "\n",
    "    #上述使用时看进行弹出操作较多还是进行添加操作多选择方式\n",
    "    \n",
    "    def is_empty(self):\n",
    "        return self.items ==[]\n",
    "    \n",
    "    def size(self):\n",
    "        return len(self.items)"
   ]
  },
  {
   "cell_type": "code",
   "execution_count": 28,
   "metadata": {},
   "outputs": [
    {
     "name": "stdout",
     "output_type": "stream",
     "text": [
      "[1, 2, 3, 4]\n"
     ]
    }
   ],
   "source": [
    "s = Queue()\n",
    "s.enqueue(1)\n",
    "s.enqueue(2)\n",
    "s.enqueue(3)\n",
    "s.enqueue(4)\n",
    "print(s.items)"
   ]
  },
  {
   "cell_type": "code",
   "execution_count": 29,
   "metadata": {},
   "outputs": [
    {
     "name": "stdout",
     "output_type": "stream",
     "text": [
      "1\n",
      "2\n",
      "3\n",
      "4\n"
     ]
    }
   ],
   "source": [
    "print(s.dequeue())\n",
    "print(s.dequeue())\n",
    "print(s.dequeue())\n",
    "print(s.dequeue())"
   ]
  },
  {
   "cell_type": "code",
   "execution_count": 37,
   "metadata": {},
   "outputs": [],
   "source": [
    "class Deque(object):\n",
    "    #初始化构造方法\n",
    "    def __init__(self):\n",
    "        self.items = []\n",
    "    \n",
    "    #在队列中添加一个元素\n",
    "    def add_front(self, item):\n",
    "        self.items.insert(0, item)\n",
    "        \n",
    "    def add_rear(self, item):\n",
    "        self.items.append(item)\n",
    "    \n",
    "    #从队列中弹出一个元素（与添加对应，头部添加尾部弹出，尾部添加头部弹出）\n",
    "    def remove_front(self):\n",
    "        return self.items.pop(0)\n",
    "    \n",
    "    def remove_rear(self):\n",
    "         return self.items.pop()\n",
    "\n",
    "    #上述使用时看进行弹出操作较多还是进行添加操作多选择方式\n",
    "    \n",
    "    def is_empty(self):\n",
    "        return self.items ==[]\n",
    "    \n",
    "    def size(self):\n",
    "        return len(self.items)\n"
   ]
  },
  {
   "cell_type": "code",
   "execution_count": 38,
   "metadata": {},
   "outputs": [
    {
     "name": "stdout",
     "output_type": "stream",
     "text": [
      "[2, 1, 3, 4]\n"
     ]
    }
   ],
   "source": [
    "deque = Deque()\n",
    "deque.add_front(1)\n",
    "deque.add_front(2)\n",
    "deque.add_rear(3)\n",
    "deque.add_rear(4)\n",
    "print(deque.items)"
   ]
  },
  {
   "cell_type": "code",
   "execution_count": 39,
   "metadata": {},
   "outputs": [
    {
     "name": "stdout",
     "output_type": "stream",
     "text": [
      "2\n",
      "1\n",
      "4\n",
      "3\n"
     ]
    }
   ],
   "source": [
    "print(deque.remove_front())\n",
    "print(deque.remove_front())\n",
    "print(deque.remove_rear())\n",
    "print(deque.remove_rear())"
   ]
  },
  {
   "cell_type": "code",
   "execution_count": null,
   "metadata": {},
   "outputs": [],
   "source": []
  }
 ],
 "metadata": {
  "kernelspec": {
   "display_name": "Python 3",
   "language": "python",
   "name": "python3"
  },
  "language_info": {
   "codemirror_mode": {
    "name": "ipython",
    "version": 3
   },
   "file_extension": ".py",
   "mimetype": "text/x-python",
   "name": "python",
   "nbconvert_exporter": "python",
   "pygments_lexer": "ipython3",
   "version": "3.6.5"
  }
 },
 "nbformat": 4,
 "nbformat_minor": 2
}
